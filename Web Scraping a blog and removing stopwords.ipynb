{
 "cells": [
  {
   "cell_type": "code",
   "execution_count": 36,
   "id": "5e6ebc5d",
   "metadata": {},
   "outputs": [],
   "source": [
    "#Requesting and parsing the HTML and XML document.\n",
    "import requests\n",
    "from bs4 import BeautifulSoup\n",
    "\n",
    "#Natural Language Toolkit here is used for stopwords and tokenizing but can also be used for classification, stemming, tagging, parsing, etc.\n",
    "import nltk\n",
    "\n",
    "#nltk.corpus and nltk.tokenize are modules in nltk.\n",
    "from nltk.corpus import stopwords\n",
    "from nltk.tokenize import word_tokenize"
   ]
  },
  {
   "cell_type": "code",
   "execution_count": 37,
   "id": "c195d2ae",
   "metadata": {},
   "outputs": [
    {
     "name": "stdout",
     "output_type": "stream",
     "text": [
      "\u001b[1m\u001b[4mOriginal Blog:\u001b[0m \n",
      "\n",
      "sports,  physical contests pursued for the goals and challenges they entail. Sports are part of every culture past and present, but each culture has its own definition of sports. The most useful definitions are those that clarify the relationship of sports to play, games, and contests. “Play,” wrote the German theorist Carl Diem, “is purposeless activity, for its own sake, the opposite of work.” Humans work because they have to; they play because they want to. Play is autotelic—that is, it has its own goals. It is voluntary and uncoerced. Recalcitrant children compelled by their parents or teachers to compete in a game of football (soccer) are not really engaged in a sport. Neither are professional athletes if their only motivation is their paycheck. In the real world, as a practical matter, motives are frequently mixed and often quite impossible to determine. Unambiguous definition is nonetheless a prerequisite to practical determinations about what is and is not an example of play.\n",
      "\n",
      "\u001b[1m\u001b[4mBlog without stop words:\u001b[0m \n",
      "\n",
      "sports , physical contests pursued goals challenges entail . Sports part every culture past present , culture definition sports . useful definitions clarify relationship sports play , games , contests . “ Play , ” wrote German theorist Carl Diem , “ purposeless activity , sake , opposite work. ” Humans work ; play want . Play autotelic—that , goals . voluntary uncoerced . Recalcitrant children compelled parents teachers compete game football ( soccer ) really engaged sport . Neither professional athletes motivation paycheck . real world , practical matter , motives frequently mixed often quite impossible determine . Unambiguous definition nonetheless prerequisite practical determinations example play .\n"
     ]
    }
   ],
   "source": [
    "#Fetching the HTML content from the website.\n",
    "html_text = requests.get(\"https://www.britannica.com/sports/sports\").text\n",
    "\n",
    "#soup object helps search and navigate through the html structure.\n",
    "soup = BeautifulSoup(html_text, 'lxml')\n",
    "\n",
    "#Capturing the entire paragragh.\n",
    "blog = soup.find('p', class_ = \"topic-paragraph\").text\n",
    "\n",
    "#Defining a function to set the stop words, tokenize the text and then filter out the non stop words.\n",
    "def remove_stopwords(text):\n",
    "    stop_words = set(stopwords.words('english'))\n",
    "    words = nltk.word_tokenize(text)\n",
    "    \n",
    "    #\"word.lower()\" converts the entire text to lower case for uniformity purposes and then iterates throught all the words.\n",
    "    #Does this because the ASCII value for upper case and lower case alphabets are different, ord('a') = 97 and ord('A') = 65.\n",
    "    filtered_text = [word for word in words if word.lower() not in stop_words]\n",
    "    return ' '.join(filtered_text)\n",
    "\n",
    "#Removing the stopwords from the blog by calling the function above.\n",
    "cleaned_blog = remove_stopwords(blog)\n",
    "\n",
    "#Printing the original blog.\n",
    "print(\"\\033[1m\\033[4mOriginal Blog:\\033[0m \\n\")\n",
    "print(blog)\n",
    "\n",
    "print('')\n",
    "\n",
    "#Printing the cleaned blog.\n",
    "print(\"\\033[1m\\033[4mBlog without stop words:\\033[0m \\n\")\n",
    "print(cleaned_blog)"
   ]
  },
  {
   "cell_type": "code",
   "execution_count": 30,
   "id": "1b4281d5",
   "metadata": {},
   "outputs": [
    {
     "data": {
      "text/plain": [
       "998"
      ]
     },
     "execution_count": 30,
     "metadata": {},
     "output_type": "execute_result"
    }
   ],
   "source": [
    "len(blog)"
   ]
  },
  {
   "cell_type": "code",
   "execution_count": 32,
   "id": "7243d2d1",
   "metadata": {},
   "outputs": [
    {
     "data": {
      "text/plain": [
       "711"
      ]
     },
     "execution_count": 32,
     "metadata": {},
     "output_type": "execute_result"
    }
   ],
   "source": [
    "len(cleaned_blog)"
   ]
  },
  {
   "cell_type": "code",
   "execution_count": 34,
   "id": "74dc989b",
   "metadata": {},
   "outputs": [
    {
     "data": {
      "text/plain": [
       "97"
      ]
     },
     "execution_count": 34,
     "metadata": {},
     "output_type": "execute_result"
    }
   ],
   "source": [
    "# searching for stopwords: an, the for\n",
    "# \"FOR\", \"THE\"\n",
    "\n",
    "#ASCII\n",
    "ord('a')"
   ]
  },
  {
   "cell_type": "code",
   "execution_count": 35,
   "id": "00149276",
   "metadata": {},
   "outputs": [
    {
     "data": {
      "text/plain": [
       "65"
      ]
     },
     "execution_count": 35,
     "metadata": {},
     "output_type": "execute_result"
    }
   ],
   "source": [
    "ord('A')"
   ]
  },
  {
   "cell_type": "code",
   "execution_count": null,
   "id": "170d89b0",
   "metadata": {},
   "outputs": [],
   "source": []
  }
 ],
 "metadata": {
  "kernelspec": {
   "display_name": "Python 3 (ipykernel)",
   "language": "python",
   "name": "python3"
  },
  "language_info": {
   "codemirror_mode": {
    "name": "ipython",
    "version": 3
   },
   "file_extension": ".py",
   "mimetype": "text/x-python",
   "name": "python",
   "nbconvert_exporter": "python",
   "pygments_lexer": "ipython3",
   "version": "3.11.3"
  }
 },
 "nbformat": 4,
 "nbformat_minor": 5
}
