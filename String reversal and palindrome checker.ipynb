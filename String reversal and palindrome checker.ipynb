{
 "cells": [
  {
   "cell_type": "markdown",
   "id": "38338646",
   "metadata": {},
   "source": [
    "1. Python program to reverse a string without the use of a built in reversal function. "
   ]
  },
  {
   "cell_type": "code",
   "execution_count": 7,
   "id": "ab1d9785",
   "metadata": {},
   "outputs": [],
   "source": [
    "def reversed_string(input_string):\n",
    "    reversed_string = ''\n",
    "    \n",
    "    # The starting and ending index is empty, hence it with capture the entire string.\n",
    "    # SLICING TECHNIQUE: The '-1' is used to reverse the string from the end to the start, it will return the reversed string.\n",
    "    # '[::-1]' the first and second colon ':' are the starting and ending of the slice respectively.\n",
    "    for char in input_string[::-1]:\n",
    "        \n",
    "        # This statement is used to join the characters at the end of the 'reversed_string' variable.\n",
    "        reversed_string += char\n",
    "    return reversed_string"
   ]
  },
  {
   "cell_type": "code",
   "execution_count": 8,
   "id": "231b0989",
   "metadata": {},
   "outputs": [
    {
     "name": "stdout",
     "output_type": "stream",
     "text": [
      "Enter a sentence below: I am a technology intern in Thomson Reuters.\n"
     ]
    }
   ],
   "source": [
    "input_string = input('Enter a sentence below: ')"
   ]
  },
  {
   "cell_type": "code",
   "execution_count": 9,
   "id": "76553944",
   "metadata": {},
   "outputs": [],
   "source": [
    "reversed_result = reversed_string(input_string)"
   ]
  },
  {
   "cell_type": "code",
   "execution_count": 10,
   "id": "78e4b669",
   "metadata": {},
   "outputs": [
    {
     "name": "stdout",
     "output_type": "stream",
     "text": [
      "Reversed String: .sretueR nosmohT ni nretni ygolonhcet a ma I\n"
     ]
    }
   ],
   "source": [
    "print('Reversed String: ' + reversed_result)"
   ]
  },
  {
   "cell_type": "markdown",
   "id": "3673faf3",
   "metadata": {},
   "source": [
    "2. Implement a function to check if a given string is a palindrome or not."
   ]
  },
  {
   "cell_type": "code",
   "execution_count": 15,
   "id": "78096864",
   "metadata": {},
   "outputs": [
    {
     "name": "stdout",
     "output_type": "stream",
     "text": [
      "Enter a string: racecar\n"
     ]
    }
   ],
   "source": [
    "string = input('Enter a string: ')"
   ]
  },
  {
   "cell_type": "code",
   "execution_count": 16,
   "id": "fad7e518",
   "metadata": {},
   "outputs": [
    {
     "name": "stdout",
     "output_type": "stream",
     "text": [
      "This is a Palindrome!!!\n"
     ]
    }
   ],
   "source": [
    "#This 'if statement' is comparing the original string to its reversal to check whether the entered string is a palindrome or not.\n",
    "if(string == string[::-1]):\n",
    "    print('This is a Palindrome!!!')\n",
    "else:\n",
    "    print('Not a Palindrome!!!')"
   ]
  },
  {
   "cell_type": "code",
   "execution_count": null,
   "id": "5f063f68",
   "metadata": {},
   "outputs": [],
   "source": []
  }
 ],
 "metadata": {
  "kernelspec": {
   "display_name": "Python 3 (ipykernel)",
   "language": "python",
   "name": "python3"
  },
  "language_info": {
   "codemirror_mode": {
    "name": "ipython",
    "version": 3
   },
   "file_extension": ".py",
   "mimetype": "text/x-python",
   "name": "python",
   "nbconvert_exporter": "python",
   "pygments_lexer": "ipython3",
   "version": "3.11.3"
  }
 },
 "nbformat": 4,
 "nbformat_minor": 5
}
